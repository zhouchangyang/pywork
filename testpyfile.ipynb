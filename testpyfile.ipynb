{
 "cells": [
  {
   "cell_type": "code",
   "execution_count": 176,
   "metadata": {
    "scrolled": true
   },
   "outputs": [],
   "source": [
    "# -*- coding: utf-8 -*-  \n",
    "import os\n",
    "import PIL.Image as Image\n",
    "\n",
    "\n",
    "def difference(hist1,hist2):\n",
    "    sum1 = 0\n",
    "    for i in range(len(hist1)):\n",
    "        if(hist1[i] == hist2[i]):\n",
    "          sum1 += 1\n",
    "        else:\n",
    "           sum1 += 1 - float(abs(hist1[i] - hist2[i]))/ max(hist1[i], hist2[i])\n",
    "    return sum1/len(hist1)\n",
    "\n",
    "def similary_calculate(path1 , path2 , mode):\n",
    "    if(mode == 3):\n",
    "        img1 = Image.open(path1).resize((8,8)).convert('1')  \n",
    "        img2 = Image.open(path2).resize((8,8)).convert('1')\n",
    "        hist1 = list(img1.getdata())\n",
    "        hist2 = list(img2.getdata())\n",
    "        return difference(hist1, hist2)\n",
    "\n",
    "    # 预处理\n",
    "    img1 = Image.open(path1).resize((256,256)).convert('RGB')  \n",
    "    img2 = Image.open(path2).resize((256,256)).convert('RGB')\n",
    "    if(mode == 1):\n",
    "        return difference(img1.histogram(), img2.histogram())\n",
    "    if(mode == 2):\n",
    "        sum = 0;\n",
    "        for i in range(4):\n",
    "            for j in range(4):\n",
    "                hist1 = img1.crop((i*64, j*64, i*64+63, j*64+63)).copy().histogram()\n",
    "                hist2 = img2.crop((i*64, j*64, i*64+63, j*64+63)).copy().histogram()\n",
    "                sum += difference(hist1, hist2)\n",
    "                #print difference(hist1, hist2)\n",
    "        return sum/16\n",
    "    return 0\n",
    "\n",
    "\n",
    "def readfolder(folder,pic, mode):\n",
    "# 不同的mode对应不同的类型\n",
    "    file_list = []\n",
    "    t = 0\n",
    "    file_temp = ''\n",
    "    for root,directors,files in os.walk(folder):\n",
    "        for filename in files:\n",
    "            filepath = os.path.join(root,filename)\n",
    "            if (filepath.endswith(\".png\") or filepath.endswith(\".jpg\")):\n",
    "               remember = similary_calculate(pic,filename,mode)\n",
    "               print (filename)\n",
    "               print (remember)\n",
    "               if (remember > t) and remember!= 1:\n",
    "                   file_temp = filename\n",
    "                   t = remember\n",
    "\n",
    "    return file_temp\n",
    "\n",
    "if __name__ == '__main__': \n",
    "    print \"###########直方图的距离计算#############\"\n",
    "    print \"相似度最高的图是\" + readfolder('E:\\Code\\similarity','t2.png',1)\n",
    "    print \"###########分块直方图的距离计算#############\"\n",
    "    print \"相似度最高的图是\" + readfolder('E:\\Code\\similarity','t2.png',2)\n",
    "    print \"##############感知哈希算法###############\"\n",
    "    print \"相似度最高的图是\" + readfolder('E:\\Code\\similarity','t2.png',3)\n"
   ]
  },
  {
   "cell_type": "code",
   "execution_count": 5,
   "metadata": {},
   "outputs": [
    {
     "name": "stdout",
     "output_type": "stream",
     "text": [
      "1\n",
      "2\n",
      "3\n",
      "found!\n"
     ]
    }
   ],
   "source": [
    "l1 = [i for i in range(1,10)]\n",
    "\n",
    "for item in l1:\n",
    "    if item == 4:\n",
    "        print('found!')\n",
    "        break\n",
    "    print(item)\n",
    "`"
   ]
  },
  {
   "cell_type": "markdown",
   "metadata": {},
   "source": [
    "### Set Pratices "
   ]
  },
  {
   "cell_type": "code",
   "execution_count": 102,
   "metadata": {},
   "outputs": [
    {
     "data": {
      "text/plain": [
       "('WRPC', 'UFBR', 'MSBH')"
      ]
     },
     "metadata": {},
     "output_type": "display_data"
    },
    {
     "data": {
      "text/plain": [
       "('MSBH', 'XYKY', 'MKJB')"
      ]
     },
     "metadata": {},
     "output_type": "display_data"
    },
    {
     "data": {
      "text/plain": [
       "0"
      ]
     },
     "execution_count": 102,
     "metadata": {},
     "output_type": "execute_result"
    }
   ],
   "source": [
    "from string import ascii_letters\n",
    "from random import choices\n",
    "\n",
    "def string_generator(Nbr_of_Strings,Digits):\n",
    "    data = string.ascii_letters\n",
    "    # display(data)\n",
    "    combo = [''.join(random.choices(data,k=Digits)).upper() for t in range(Nbr_of_Strings)]\n",
    "    return combo\n",
    "opt = string_generator(5,4)\n",
    "\n",
    "# help(random.choices)\n",
    "opt1 = tuple(opt[:3])\n",
    "opt2 = tuple(opt[2:])\n",
    "display(opt1,opt2)\n"
   ]
  },
  {
   "cell_type": "markdown",
   "metadata": {},
   "source": [
    "## Dict Pratices"
   ]
  },
  {
   "cell_type": "code",
   "execution_count": 127,
   "metadata": {},
   "outputs": [
    {
     "data": {
      "text/plain": [
       "{'K01': 'TFGG', 'K02': 'NCPB', 'K03': 'EAWQ'}"
      ]
     },
     "metadata": {},
     "output_type": "display_data"
    }
   ],
   "source": [
    "from string import ascii_letters\n",
    "from random import choices\n",
    "\n",
    "def dict_generator(Nbr_of_Strings,Digits):\n",
    "    data = string.ascii_letters\n",
    "    # display(data)\n",
    "    opt = {'K{:02}'.format(indx) :''.join(random.choices(data,k=Digits)).upper() for indx,t in enumerate(range(Nbr_of_Strings),start=1)}\n",
    "    return opt\n",
    "    \n",
    "zidian = dict_generator(3,4)\n",
    "display(zidian)\n",
    "# print('{K01},{K02},{K03}'.format(**zidian))\n"
   ]
  },
  {
   "cell_type": "code",
   "execution_count": 162,
   "metadata": {},
   "outputs": [
    {
     "name": "stdout",
     "output_type": "stream",
     "text": [
      "Tobin2019-Brown2018-20\n"
     ]
    }
   ],
   "source": [
    "import ast\n",
    "class Person(object):\n",
    "\n",
    "    def __init__(self, first, last, age):\n",
    "        self.first = first\n",
    "        self.last = last\n",
    "        self.age = age\n",
    "    def __repr__(self):\n",
    "        dict1 = self.__dict__\n",
    "        \n",
    "        return str(dict1)\n",
    "\n",
    "\n",
    "person = Person('Tobin2019', 'Brown2018', 20)\n",
    "tt = repr(person)\n",
    "zz = ast.literal_eval (tt)\n",
    "print('{first}-{last}-{age}'.format(**zz))"
   ]
  },
  {
   "cell_type": "markdown",
   "metadata": {},
   "source": [
    "### List Pratice!"
   ]
  },
  {
   "cell_type": "code",
   "execution_count": 5,
   "metadata": {},
   "outputs": [
    {
     "data": {
      "text/plain": [
       "[6, 4, 5, 1, 2, 3, 6, 4, 5, 1, 2, 3]"
      ]
     },
     "execution_count": 5,
     "metadata": {},
     "output_type": "execute_result"
    }
   ],
   "source": [
    "a = [1,2,3]\n",
    "b = [4,5]\n",
    "c= [6,*b,*a]\n",
    "c*2\n"
   ]
  }
 ],
 "metadata": {
  "kernelspec": {
   "display_name": "Python 3",
   "language": "python",
   "name": "python3"
  },
  "language_info": {
   "codemirror_mode": {
    "name": "ipython",
    "version": 3
   },
   "file_extension": ".py",
   "mimetype": "text/x-python",
   "name": "python",
   "nbconvert_exporter": "python",
   "pygments_lexer": "ipython3",
   "version": "3.7.2"
  }
 },
 "nbformat": 4,
 "nbformat_minor": 2
}
