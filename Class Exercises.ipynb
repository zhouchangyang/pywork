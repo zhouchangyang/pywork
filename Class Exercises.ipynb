{
 "cells": [
  {
   "cell_type": "markdown",
   "metadata": {},
   "source": [
    "# This Script is to pratice how to create a class:\n",
    "## First\n",
    "    dandr init\" function to instanize any object of this class\n",
    "## Sec\n",
    "    clearly tell the difference betwn instance variables(self.first,etc) and class variables (raise_amount)\n",
    "## Third\n",
    "###      These methods are used in class definition:\n",
    "    1.regular method including (self variable) when you define this kind of methods\n",
    "    2.class method including (cls variable) when you define this kind of methods also put the decorator at the head \n",
    "    3. static method without including (self or cls variables) when you define this method\n",
    "    4. regurlar special common method (dandar add, dandar repr,dandar str,etc)\n",
    "        "
   ]
  },
  {
   "cell_type": "code",
   "execution_count": 109,
   "metadata": {},
   "outputs": [],
   "source": [
    "import datetime\n",
    "class Employee:\n",
    "    raise_amount = 1.04\n",
    "    Nbr_of_emp = 0\n",
    "# First to define __init__ function to initiate the class\n",
    "    def __init__ (self,first,last,pay=None):\n",
    "        self.first = first\n",
    "        self.last = last\n",
    "        self.pay = pay\n",
    "        self.email = '{}.{}@tencent.com'.format(first,last)\n",
    "        Employee.Nbr_of_emp+=1\n",
    "# regular method with special decorator \n",
    "    @property\n",
    "    def fullname(self):\n",
    "        return '{} {}'.format(self.last,self.first)\n",
    "    def raise_amnt(self):\n",
    "        self.pay = int(self.pay*Employee.raise_amount)\n",
    "# 2&3. create class method and staticmethod \n",
    "# Alternative constructor input string to provide class object \n",
    "    @classmethod\n",
    "    def set_raise_amnt(cls,amount):\n",
    "        cls.raise_amount = amount\n",
    "    @classmethod\n",
    "    def from_string(cls,string):\n",
    "        first,last,pay = string.split('-')\n",
    "        return cls(first,last,pay)\n",
    "    @staticmethod\n",
    "    def isweekday(day):\n",
    "        if day.weekday() in [5,6]:\n",
    "            return False\n",
    "        return True\n",
    "## 4.regular Special common method (Naming convention is unchangable)\n",
    "    def __repr__(self):\n",
    "        return \"Employee('{}','{}',{})\".format(self.first,self.last,self.pay)\n",
    "    def __str__(self):\n",
    "        return '{} - {}'.format(self.fullname,self.email)\n",
    "    def __add__(self,other):\n",
    "        return self.pay+other.pay\n",
    "    def __len__(self):\n",
    "        return len(self.fullname)\n",
    "# dy = datetime.datetime.now()\n",
    "# print(dy)\n",
    "\n",
    "emp1 = Employee('zhuochang','yang',9000)\n",
    "emp2 = Employee('zhuochang','Tang',6000)\n",
    "\n",
    "emp3 = Employee('zhuochang','Wang',5000)\n",
    "# print(repr(emp1))\n",
    "# print(str(emp1))\n",
    "# print(emp1)\n",
    "# len(emp1)\n",
    "# Employee.isweekday(dy)\n",
    "# emp1.raise_amount=1.05\n",
    "# Employee.set_raise_amnt(1.06)\n",
    "# emp1.raise_amnt()\n",
    "# print(emp1.raise_amount)\n",
    "# print(emp2.raise_amount)\n",
    "# print(Employee.raise_amount)\n",
    "\n",
    "# s1 = 'zhuocahng-TTag-4000'\n",
    "# emp4 = Employee.from_string(s1)\n",
    "# emp4.fullname"
   ]
  },
  {
   "cell_type": "markdown",
   "metadata": {},
   "source": [
    "## Sorted fuc of class instances"
   ]
  },
  {
   "cell_type": "code",
   "execution_count": 119,
   "metadata": {},
   "outputs": [
    {
     "name": "stdout",
     "output_type": "stream",
     "text": [
      "1. Sorted by SortKey:  [Employee('zhuochang','Wang',5000), Employee('zhuochang','Tang',6000), Employee('zhuochang','yang',9000)]\n",
      "2. Sorted by Lambda:  [Employee('zhuochang','Wang',5000), Employee('zhuochang','Tang',6000), Employee('zhuochang','yang',9000)]\n",
      "3. Sorted by import:  [Employee('zhuochang','Wang',5000), Employee('zhuochang','Tang',6000), Employee('zhuochang','yang',9000)]\n"
     ]
    }
   ],
   "source": [
    "li = [emp1,emp2,emp3]\n",
    "# 1  (a flexiable way of dealing with more complex funcs)\n",
    "def s_key (emp):    \n",
    "    return emp.pay\n",
    "s_li = sorted(li,key=s_key)\n",
    "print('1. Sorted by SortKey: ',s_li)\n",
    "# 2 \n",
    "s_li2 = sorted(li,key = lambda i:i.pay)\n",
    "print('2. Sorted by Lambda: ',s_li2)\n",
    "# 3\n",
    "from operator import attrgetter\n",
    "s_li3 = sorted(li,key=attrgetter('pay'))\n",
    "print('3. Sorted by import: ',s_li3)"
   ]
  },
  {
   "cell_type": "code",
   "execution_count": null,
   "metadata": {},
   "outputs": [],
   "source": []
  }
 ],
 "metadata": {
  "kernelspec": {
   "display_name": "Python 3",
   "language": "python",
   "name": "python3"
  },
  "language_info": {
   "codemirror_mode": {
    "name": "ipython",
    "version": 3
   },
   "file_extension": ".py",
   "mimetype": "text/x-python",
   "name": "python",
   "nbconvert_exporter": "python",
   "pygments_lexer": "ipython3",
   "version": "3.7.2"
  }
 },
 "nbformat": 4,
 "nbformat_minor": 2
}
