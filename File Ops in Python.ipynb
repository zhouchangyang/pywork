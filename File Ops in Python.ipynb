{
 "cells": [
  {
   "cell_type": "code",
   "execution_count": 19,
   "metadata": {},
   "outputs": [
    {
     "name": "stdout",
     "output_type": "stream",
     "text": [
      "1. nimeia\n",
      "\n"
     ]
    }
   ],
   "source": [
    "with open('File_ops_Demo/text1.txt','r') as file:\n",
    "    with open('File_ops_Demo/text_desti.txt','w') as fd:\n",
    "        chunk_size = 4\n",
    "        file_contents = file.read(chunk_size)\n",
    "        while len(file_contents)>0:\n",
    "            fd.write(file_contents)\n",
    "            file_contents = file.read(chunk_size)\n",
    "with open('File_ops_Demo/text_desti.txt','r') as fs:\n",
    "    print(fs.readline())\n",
    "\n"
   ]
  },
  {
   "cell_type": "markdown",
   "metadata": {},
   "source": [
    "## A Tool of automating rename the file names"
   ]
  },
  {
   "cell_type": "code",
   "execution_count": 74,
   "metadata": {},
   "outputs": [],
   "source": [
    "import os,re\n",
    "os.chdir('/Users/zhuochangyang/Desktop/Music/')\n",
    "for indx,m in enumerate(os.listdir()):\n",
    "    f_name,f_ext = os.path.splitext(m)\n",
    "#     print(indx,f_name)\n",
    "    for idx,cn in enumerate(re.findall(u'[\\u4e00-\\u9fff]+',f_name)):\n",
    "        a= []\n",
    "        a.append(cn)\n",
    "    m_name = ''.join(a)\n",
    "    m_name.strip()\n",
    "    f_ext.strip()\n",
    "    new_name= '{}-{}{}'.format(str(indx+1).zfill(2),m_name,f_ext)\n",
    "#     os.rename(m,new_name)"
   ]
  },
  {
   "cell_type": "code",
   "execution_count": null,
   "metadata": {},
   "outputs": [],
   "source": []
  }
 ],
 "metadata": {
  "kernelspec": {
   "display_name": "Python 3",
   "language": "python",
   "name": "python3"
  },
  "language_info": {
   "codemirror_mode": {
    "name": "ipython",
    "version": 3
   },
   "file_extension": ".py",
   "mimetype": "text/x-python",
   "name": "python",
   "nbconvert_exporter": "python",
   "pygments_lexer": "ipython3",
   "version": "3.7.2"
  }
 },
 "nbformat": 4,
 "nbformat_minor": 2
}
